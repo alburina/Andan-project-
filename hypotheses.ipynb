{
 "cells": [
  {
   "cell_type": "code",
   "execution_count": null,
   "metadata": {
    "vscode": {
     "languageId": "plaintext"
    }
   },
   "outputs": [],
   "source": [
    "efzsebflakjwgf\n",
    "awlrekghlaekrwg\n",
    ",ajwebfgk nv,jhc,jhc"
   ]
  },
  {
   "cell_type": "markdown",
   "metadata": {},
<<<<<<< Updated upstream
<<<<<<< Updated upstream
   "source": []
  },
  {
   "cell_type": "code",
   "execution_count": null,
   "metadata": {
    "vscode": {
     "languageId": "plaintext"
    }
   },
   "outputs": [],
   "source": [
    "ougou\n",
    "vkjuv.;\n",
    "oj;o"
=======
   "source": [
    "## Гипотезы"
>>>>>>> Stashed changes
=======
   "source": [
    "## Гипотезы"
>>>>>>> Stashed changes
   ]
  },
  {
   "cell_type": "markdown",
   "metadata": {},
   "source": [
<<<<<<< Updated upstream
<<<<<<< Updated upstream
    ",mbk.jvb.kjl\n",
    ";kln;lk"
=======
=======
>>>>>>> Stashed changes
    "Используем уровень значимости 5%"
   ]
  },
  {
   "cell_type": "code",
   "execution_count": 27,
   "metadata": {},
   "outputs": [
    {
     "name": "stdout",
     "output_type": "stream",
     "text": [
      "Defaulting to user installation because normal site-packages is not writeable\n",
      "Requirement already satisfied: scipy in /Users/fatimaalburina/Library/Python/3.9/lib/python/site-packages (1.13.1)\n",
      "Requirement already satisfied: numpy<2.3,>=1.22.4 in /Users/fatimaalburina/Library/Python/3.9/lib/python/site-packages (from scipy) (2.0.2)\n",
      "Note: you may need to restart the kernel to use updated packages.\n"
     ]
    }
   ],
   "source": [
    "pip install scipy"
   ]
  },
  {
   "cell_type": "code",
   "execution_count": 29,
   "metadata": {},
   "outputs": [
    {
     "ename": "KeyboardInterrupt",
     "evalue": "",
     "output_type": "error",
     "traceback": [
      "\u001b[0;31m---------------------------------------------------------------------------\u001b[0m",
      "\u001b[0;31mKeyboardInterrupt\u001b[0m                         Traceback (most recent call last)",
      "Cell \u001b[0;32mIn[29], line 4\u001b[0m\n\u001b[1;32m      2\u001b[0m \u001b[38;5;28;01mimport\u001b[39;00m \u001b[38;5;21;01mpandas\u001b[39;00m \u001b[38;5;28;01mas\u001b[39;00m \u001b[38;5;21;01mpd\u001b[39;00m\n\u001b[1;32m      3\u001b[0m \u001b[38;5;28;01mimport\u001b[39;00m \u001b[38;5;21;01mscipy\u001b[39;00m \u001b[38;5;28;01mas\u001b[39;00m \u001b[38;5;21;01msc\u001b[39;00m\n\u001b[0;32m----> 4\u001b[0m \u001b[38;5;28;01mimport\u001b[39;00m \u001b[38;5;21;01mscipy\u001b[39;00m\u001b[38;5;21;01m.\u001b[39;00m\u001b[38;5;21;01mstats\u001b[39;00m \u001b[38;5;28;01mas\u001b[39;00m \u001b[38;5;21;01mstats\u001b[39;00m\n\u001b[1;32m      5\u001b[0m \u001b[38;5;28;01mimport\u001b[39;00m \u001b[38;5;21;01mmatplotlib\u001b[39;00m\u001b[38;5;21;01m.\u001b[39;00m\u001b[38;5;21;01mpyplot\u001b[39;00m \u001b[38;5;28;01mas\u001b[39;00m \u001b[38;5;21;01mplt\u001b[39;00m\n\u001b[1;32m      6\u001b[0m \u001b[38;5;28;01mimport\u001b[39;00m \u001b[38;5;21;01mseaborn\u001b[39;00m \u001b[38;5;28;01mas\u001b[39;00m \u001b[38;5;21;01msns\u001b[39;00m\n",
      "File \u001b[0;32m~/Library/Python/3.9/lib/python/site-packages/scipy/stats/__init__.py:606\u001b[0m\n\u001b[1;32m      1\u001b[0m \u001b[38;5;124;03m\"\"\"\u001b[39;00m\n\u001b[1;32m      2\u001b[0m \u001b[38;5;124;03m.. _statsrefmanual:\u001b[39;00m\n\u001b[1;32m      3\u001b[0m \n\u001b[0;32m   (...)\u001b[0m\n\u001b[1;32m    601\u001b[0m \n\u001b[1;32m    602\u001b[0m \u001b[38;5;124;03m\"\"\"\u001b[39;00m  \u001b[38;5;66;03m# noqa: E501\u001b[39;00m\n\u001b[1;32m    604\u001b[0m \u001b[38;5;28;01mfrom\u001b[39;00m \u001b[38;5;21;01m.\u001b[39;00m\u001b[38;5;21;01m_warnings_errors\u001b[39;00m \u001b[38;5;28;01mimport\u001b[39;00m (ConstantInputWarning, NearConstantInputWarning,\n\u001b[1;32m    605\u001b[0m                                DegenerateDataWarning, FitError)\n\u001b[0;32m--> 606\u001b[0m \u001b[38;5;28;01mfrom\u001b[39;00m \u001b[38;5;21;01m.\u001b[39;00m\u001b[38;5;21;01m_stats_py\u001b[39;00m \u001b[38;5;28;01mimport\u001b[39;00m \u001b[38;5;241m*\u001b[39m\n\u001b[1;32m    607\u001b[0m \u001b[38;5;28;01mfrom\u001b[39;00m \u001b[38;5;21;01m.\u001b[39;00m\u001b[38;5;21;01m_variation\u001b[39;00m \u001b[38;5;28;01mimport\u001b[39;00m variation\n\u001b[1;32m    608\u001b[0m \u001b[38;5;28;01mfrom\u001b[39;00m \u001b[38;5;21;01m.\u001b[39;00m\u001b[38;5;21;01mdistributions\u001b[39;00m \u001b[38;5;28;01mimport\u001b[39;00m \u001b[38;5;241m*\u001b[39m\n",
      "File \u001b[0;32m~/Library/Python/3.9/lib/python/site-packages/scipy/stats/_stats_py.py:37\u001b[0m\n\u001b[1;32m     34\u001b[0m \u001b[38;5;28;01mimport\u001b[39;00m \u001b[38;5;21;01mnumpy\u001b[39;00m \u001b[38;5;28;01mas\u001b[39;00m \u001b[38;5;21;01mnp\u001b[39;00m\n\u001b[1;32m     35\u001b[0m \u001b[38;5;28;01mfrom\u001b[39;00m \u001b[38;5;21;01mnumpy\u001b[39;00m \u001b[38;5;28;01mimport\u001b[39;00m array, asarray, ma\n\u001b[0;32m---> 37\u001b[0m \u001b[38;5;28;01mfrom\u001b[39;00m \u001b[38;5;21;01mscipy\u001b[39;00m \u001b[38;5;28;01mimport\u001b[39;00m sparse\n\u001b[1;32m     38\u001b[0m \u001b[38;5;28;01mfrom\u001b[39;00m \u001b[38;5;21;01mscipy\u001b[39;00m\u001b[38;5;21;01m.\u001b[39;00m\u001b[38;5;21;01mspatial\u001b[39;00m\u001b[38;5;21;01m.\u001b[39;00m\u001b[38;5;21;01mdistance\u001b[39;00m \u001b[38;5;28;01mimport\u001b[39;00m cdist\n\u001b[1;32m     39\u001b[0m \u001b[38;5;28;01mfrom\u001b[39;00m \u001b[38;5;21;01mscipy\u001b[39;00m\u001b[38;5;21;01m.\u001b[39;00m\u001b[38;5;21;01mspatial\u001b[39;00m \u001b[38;5;28;01mimport\u001b[39;00m distance_matrix\n",
      "File \u001b[0;32m<frozen importlib._bootstrap>:1055\u001b[0m, in \u001b[0;36m_handle_fromlist\u001b[0;34m(module, fromlist, import_, recursive)\u001b[0m\n",
      "File \u001b[0;32m~/Library/Python/3.9/lib/python/site-packages/scipy/__init__.py:134\u001b[0m, in \u001b[0;36m__getattr__\u001b[0;34m(name)\u001b[0m\n\u001b[1;32m    132\u001b[0m \u001b[38;5;28;01mdef\u001b[39;00m \u001b[38;5;21m__getattr__\u001b[39m(name):\n\u001b[1;32m    133\u001b[0m     \u001b[38;5;28;01mif\u001b[39;00m name \u001b[38;5;129;01min\u001b[39;00m submodules:\n\u001b[0;32m--> 134\u001b[0m         \u001b[38;5;28;01mreturn\u001b[39;00m \u001b[43m_importlib\u001b[49m\u001b[38;5;241;43m.\u001b[39;49m\u001b[43mimport_module\u001b[49m\u001b[43m(\u001b[49m\u001b[38;5;124;43mf\u001b[39;49m\u001b[38;5;124;43m'\u001b[39;49m\u001b[38;5;124;43mscipy.\u001b[39;49m\u001b[38;5;132;43;01m{\u001b[39;49;00m\u001b[43mname\u001b[49m\u001b[38;5;132;43;01m}\u001b[39;49;00m\u001b[38;5;124;43m'\u001b[39;49m\u001b[43m)\u001b[49m\n\u001b[1;32m    135\u001b[0m     \u001b[38;5;28;01melse\u001b[39;00m:\n\u001b[1;32m    136\u001b[0m         \u001b[38;5;28;01mtry\u001b[39;00m:\n",
      "File \u001b[0;32m/Library/Developer/CommandLineTools/Library/Frameworks/Python3.framework/Versions/3.9/lib/python3.9/importlib/__init__.py:127\u001b[0m, in \u001b[0;36mimport_module\u001b[0;34m(name, package)\u001b[0m\n\u001b[1;32m    125\u001b[0m             \u001b[38;5;28;01mbreak\u001b[39;00m\n\u001b[1;32m    126\u001b[0m         level \u001b[38;5;241m+\u001b[39m\u001b[38;5;241m=\u001b[39m \u001b[38;5;241m1\u001b[39m\n\u001b[0;32m--> 127\u001b[0m \u001b[38;5;28;01mreturn\u001b[39;00m \u001b[43m_bootstrap\u001b[49m\u001b[38;5;241;43m.\u001b[39;49m\u001b[43m_gcd_import\u001b[49m\u001b[43m(\u001b[49m\u001b[43mname\u001b[49m\u001b[43m[\u001b[49m\u001b[43mlevel\u001b[49m\u001b[43m:\u001b[49m\u001b[43m]\u001b[49m\u001b[43m,\u001b[49m\u001b[43m \u001b[49m\u001b[43mpackage\u001b[49m\u001b[43m,\u001b[49m\u001b[43m \u001b[49m\u001b[43mlevel\u001b[49m\u001b[43m)\u001b[49m\n",
      "File \u001b[0;32m~/Library/Python/3.9/lib/python/site-packages/scipy/sparse/__init__.py:308\u001b[0m\n\u001b[1;32m    305\u001b[0m \u001b[38;5;28;01mfrom\u001b[39;00m \u001b[38;5;21;01m.\u001b[39;00m\u001b[38;5;21;01m_matrix_io\u001b[39;00m \u001b[38;5;28;01mimport\u001b[39;00m \u001b[38;5;241m*\u001b[39m\n\u001b[1;32m    307\u001b[0m \u001b[38;5;66;03m# For backward compatibility with v0.19.\u001b[39;00m\n\u001b[0;32m--> 308\u001b[0m \u001b[38;5;28;01mfrom\u001b[39;00m \u001b[38;5;21;01m.\u001b[39;00m \u001b[38;5;28;01mimport\u001b[39;00m csgraph\n\u001b[1;32m    310\u001b[0m \u001b[38;5;66;03m# Deprecated namespaces, to be removed in v2.0.0\u001b[39;00m\n\u001b[1;32m    311\u001b[0m \u001b[38;5;28;01mfrom\u001b[39;00m \u001b[38;5;21;01m.\u001b[39;00m \u001b[38;5;28;01mimport\u001b[39;00m (\n\u001b[1;32m    312\u001b[0m     base, bsr, compressed, construct, coo, csc, csr, data, dia, dok, extract,\n\u001b[1;32m    313\u001b[0m     lil, sparsetools, sputils\n\u001b[1;32m    314\u001b[0m )\n",
      "File \u001b[0;32m~/Library/Python/3.9/lib/python/site-packages/scipy/sparse/csgraph/__init__.py:185\u001b[0m\n\u001b[1;32m    157\u001b[0m __docformat__ \u001b[38;5;241m=\u001b[39m \u001b[38;5;124m\"\u001b[39m\u001b[38;5;124mrestructuredtext en\u001b[39m\u001b[38;5;124m\"\u001b[39m\n\u001b[1;32m    159\u001b[0m __all__ \u001b[38;5;241m=\u001b[39m [\u001b[38;5;124m'\u001b[39m\u001b[38;5;124mconnected_components\u001b[39m\u001b[38;5;124m'\u001b[39m,\n\u001b[1;32m    160\u001b[0m            \u001b[38;5;124m'\u001b[39m\u001b[38;5;124mlaplacian\u001b[39m\u001b[38;5;124m'\u001b[39m,\n\u001b[1;32m    161\u001b[0m            \u001b[38;5;124m'\u001b[39m\u001b[38;5;124mshortest_path\u001b[39m\u001b[38;5;124m'\u001b[39m,\n\u001b[0;32m   (...)\u001b[0m\n\u001b[1;32m    182\u001b[0m            \u001b[38;5;124m'\u001b[39m\u001b[38;5;124mcsgraph_to_masked\u001b[39m\u001b[38;5;124m'\u001b[39m,\n\u001b[1;32m    183\u001b[0m            \u001b[38;5;124m'\u001b[39m\u001b[38;5;124mNegativeCycleError\u001b[39m\u001b[38;5;124m'\u001b[39m]\n\u001b[0;32m--> 185\u001b[0m \u001b[38;5;28;01mfrom\u001b[39;00m \u001b[38;5;21;01m.\u001b[39;00m\u001b[38;5;21;01m_laplacian\u001b[39;00m \u001b[38;5;28;01mimport\u001b[39;00m laplacian\n\u001b[1;32m    186\u001b[0m \u001b[38;5;28;01mfrom\u001b[39;00m \u001b[38;5;21;01m.\u001b[39;00m\u001b[38;5;21;01m_shortest_path\u001b[39;00m \u001b[38;5;28;01mimport\u001b[39;00m (\n\u001b[1;32m    187\u001b[0m     shortest_path, floyd_warshall, dijkstra, bellman_ford, johnson,\n\u001b[1;32m    188\u001b[0m     NegativeCycleError\n\u001b[1;32m    189\u001b[0m )\n\u001b[1;32m    190\u001b[0m \u001b[38;5;28;01mfrom\u001b[39;00m \u001b[38;5;21;01m.\u001b[39;00m\u001b[38;5;21;01m_traversal\u001b[39;00m \u001b[38;5;28;01mimport\u001b[39;00m (\n\u001b[1;32m    191\u001b[0m     breadth_first_order, depth_first_order, breadth_first_tree,\n\u001b[1;32m    192\u001b[0m     depth_first_tree, connected_components\n\u001b[1;32m    193\u001b[0m )\n",
      "File \u001b[0;32m~/Library/Python/3.9/lib/python/site-packages/scipy/sparse/csgraph/_laplacian.py:7\u001b[0m\n\u001b[1;32m      5\u001b[0m \u001b[38;5;28;01mimport\u001b[39;00m \u001b[38;5;21;01mnumpy\u001b[39;00m \u001b[38;5;28;01mas\u001b[39;00m \u001b[38;5;21;01mnp\u001b[39;00m\n\u001b[1;32m      6\u001b[0m \u001b[38;5;28;01mfrom\u001b[39;00m \u001b[38;5;21;01mscipy\u001b[39;00m\u001b[38;5;21;01m.\u001b[39;00m\u001b[38;5;21;01msparse\u001b[39;00m \u001b[38;5;28;01mimport\u001b[39;00m issparse\n\u001b[0;32m----> 7\u001b[0m \u001b[38;5;28;01mfrom\u001b[39;00m \u001b[38;5;21;01mscipy\u001b[39;00m\u001b[38;5;21;01m.\u001b[39;00m\u001b[38;5;21;01msparse\u001b[39;00m\u001b[38;5;21;01m.\u001b[39;00m\u001b[38;5;21;01mlinalg\u001b[39;00m \u001b[38;5;28;01mimport\u001b[39;00m LinearOperator\n\u001b[1;32m      8\u001b[0m \u001b[38;5;28;01mfrom\u001b[39;00m \u001b[38;5;21;01mscipy\u001b[39;00m\u001b[38;5;21;01m.\u001b[39;00m\u001b[38;5;21;01msparse\u001b[39;00m\u001b[38;5;21;01m.\u001b[39;00m\u001b[38;5;21;01m_sputils\u001b[39;00m \u001b[38;5;28;01mimport\u001b[39;00m convert_pydata_sparse_to_scipy, is_pydata_spmatrix\n\u001b[1;32m     11\u001b[0m \u001b[38;5;66;03m###############################################################################\u001b[39;00m\n\u001b[1;32m     12\u001b[0m \u001b[38;5;66;03m# Graph laplacian\u001b[39;00m\n",
      "File \u001b[0;32m~/Library/Python/3.9/lib/python/site-packages/scipy/sparse/linalg/__init__.py:129\u001b[0m\n\u001b[1;32m      1\u001b[0m \u001b[38;5;124;03m\"\"\"\u001b[39;00m\n\u001b[1;32m      2\u001b[0m \u001b[38;5;124;03mSparse linear algebra (:mod:`scipy.sparse.linalg`)\u001b[39;00m\n\u001b[1;32m      3\u001b[0m \u001b[38;5;124;03m==================================================\u001b[39;00m\n\u001b[0;32m   (...)\u001b[0m\n\u001b[1;32m    126\u001b[0m \n\u001b[1;32m    127\u001b[0m \u001b[38;5;124;03m\"\"\"\u001b[39;00m\n\u001b[0;32m--> 129\u001b[0m \u001b[38;5;28;01mfrom\u001b[39;00m \u001b[38;5;21;01m.\u001b[39;00m\u001b[38;5;21;01m_isolve\u001b[39;00m \u001b[38;5;28;01mimport\u001b[39;00m \u001b[38;5;241m*\u001b[39m\n\u001b[1;32m    130\u001b[0m \u001b[38;5;28;01mfrom\u001b[39;00m \u001b[38;5;21;01m.\u001b[39;00m\u001b[38;5;21;01m_dsolve\u001b[39;00m \u001b[38;5;28;01mimport\u001b[39;00m \u001b[38;5;241m*\u001b[39m\n\u001b[1;32m    131\u001b[0m \u001b[38;5;28;01mfrom\u001b[39;00m \u001b[38;5;21;01m.\u001b[39;00m\u001b[38;5;21;01m_interface\u001b[39;00m \u001b[38;5;28;01mimport\u001b[39;00m \u001b[38;5;241m*\u001b[39m\n",
      "File \u001b[0;32m~/Library/Python/3.9/lib/python/site-packages/scipy/sparse/linalg/_isolve/__init__.py:4\u001b[0m\n\u001b[1;32m      1\u001b[0m \u001b[38;5;124m\"\u001b[39m\u001b[38;5;124mIterative Solvers for Sparse Linear Systems\u001b[39m\u001b[38;5;124m\"\u001b[39m\n\u001b[1;32m      3\u001b[0m \u001b[38;5;66;03m#from info import __doc__\u001b[39;00m\n\u001b[0;32m----> 4\u001b[0m \u001b[38;5;28;01mfrom\u001b[39;00m \u001b[38;5;21;01m.\u001b[39;00m\u001b[38;5;21;01miterative\u001b[39;00m \u001b[38;5;28;01mimport\u001b[39;00m \u001b[38;5;241m*\u001b[39m\n\u001b[1;32m      5\u001b[0m \u001b[38;5;28;01mfrom\u001b[39;00m \u001b[38;5;21;01m.\u001b[39;00m\u001b[38;5;21;01mminres\u001b[39;00m \u001b[38;5;28;01mimport\u001b[39;00m minres\n\u001b[1;32m      6\u001b[0m \u001b[38;5;28;01mfrom\u001b[39;00m \u001b[38;5;21;01m.\u001b[39;00m\u001b[38;5;21;01mlgmres\u001b[39;00m \u001b[38;5;28;01mimport\u001b[39;00m lgmres\n",
      "File \u001b[0;32m~/Library/Python/3.9/lib/python/site-packages/scipy/sparse/linalg/_isolve/iterative.py:5\u001b[0m\n\u001b[1;32m      3\u001b[0m \u001b[38;5;28;01mfrom\u001b[39;00m \u001b[38;5;21;01mscipy\u001b[39;00m\u001b[38;5;21;01m.\u001b[39;00m\u001b[38;5;21;01msparse\u001b[39;00m\u001b[38;5;21;01m.\u001b[39;00m\u001b[38;5;21;01mlinalg\u001b[39;00m\u001b[38;5;21;01m.\u001b[39;00m\u001b[38;5;21;01m_interface\u001b[39;00m \u001b[38;5;28;01mimport\u001b[39;00m LinearOperator\n\u001b[1;32m      4\u001b[0m \u001b[38;5;28;01mfrom\u001b[39;00m \u001b[38;5;21;01m.\u001b[39;00m\u001b[38;5;21;01mutils\u001b[39;00m \u001b[38;5;28;01mimport\u001b[39;00m make_system\n\u001b[0;32m----> 5\u001b[0m \u001b[38;5;28;01mfrom\u001b[39;00m \u001b[38;5;21;01mscipy\u001b[39;00m\u001b[38;5;21;01m.\u001b[39;00m\u001b[38;5;21;01mlinalg\u001b[39;00m \u001b[38;5;28;01mimport\u001b[39;00m get_lapack_funcs\n\u001b[1;32m      6\u001b[0m \u001b[38;5;28;01mfrom\u001b[39;00m \u001b[38;5;21;01mscipy\u001b[39;00m\u001b[38;5;21;01m.\u001b[39;00m\u001b[38;5;21;01m_lib\u001b[39;00m\u001b[38;5;21;01m.\u001b[39;00m\u001b[38;5;21;01mdeprecation\u001b[39;00m \u001b[38;5;28;01mimport\u001b[39;00m _NoValue, _deprecate_positional_args\n\u001b[1;32m      8\u001b[0m __all__ \u001b[38;5;241m=\u001b[39m [\u001b[38;5;124m'\u001b[39m\u001b[38;5;124mbicg\u001b[39m\u001b[38;5;124m'\u001b[39m, \u001b[38;5;124m'\u001b[39m\u001b[38;5;124mbicgstab\u001b[39m\u001b[38;5;124m'\u001b[39m, \u001b[38;5;124m'\u001b[39m\u001b[38;5;124mcg\u001b[39m\u001b[38;5;124m'\u001b[39m, \u001b[38;5;124m'\u001b[39m\u001b[38;5;124mcgs\u001b[39m\u001b[38;5;124m'\u001b[39m, \u001b[38;5;124m'\u001b[39m\u001b[38;5;124mgmres\u001b[39m\u001b[38;5;124m'\u001b[39m, \u001b[38;5;124m'\u001b[39m\u001b[38;5;124mqmr\u001b[39m\u001b[38;5;124m'\u001b[39m]\n",
      "File \u001b[0;32m~/Library/Python/3.9/lib/python/site-packages/scipy/linalg/__init__.py:203\u001b[0m\n\u001b[1;32m      1\u001b[0m \u001b[38;5;124;03m\"\"\"\u001b[39;00m\n\u001b[1;32m      2\u001b[0m \u001b[38;5;124;03m====================================\u001b[39;00m\n\u001b[1;32m      3\u001b[0m \u001b[38;5;124;03mLinear algebra (:mod:`scipy.linalg`)\u001b[39;00m\n\u001b[0;32m   (...)\u001b[0m\n\u001b[1;32m    200\u001b[0m \n\u001b[1;32m    201\u001b[0m \u001b[38;5;124;03m\"\"\"\u001b[39;00m  \u001b[38;5;66;03m# noqa: E501\u001b[39;00m\n\u001b[0;32m--> 203\u001b[0m \u001b[38;5;28;01mfrom\u001b[39;00m \u001b[38;5;21;01m.\u001b[39;00m\u001b[38;5;21;01m_misc\u001b[39;00m \u001b[38;5;28;01mimport\u001b[39;00m \u001b[38;5;241m*\u001b[39m\n\u001b[1;32m    204\u001b[0m \u001b[38;5;28;01mfrom\u001b[39;00m \u001b[38;5;21;01m.\u001b[39;00m\u001b[38;5;21;01m_cythonized_array_utils\u001b[39;00m \u001b[38;5;28;01mimport\u001b[39;00m \u001b[38;5;241m*\u001b[39m\n\u001b[1;32m    205\u001b[0m \u001b[38;5;28;01mfrom\u001b[39;00m \u001b[38;5;21;01m.\u001b[39;00m\u001b[38;5;21;01m_basic\u001b[39;00m \u001b[38;5;28;01mimport\u001b[39;00m \u001b[38;5;241m*\u001b[39m\n",
      "File \u001b[0;32m~/Library/Python/3.9/lib/python/site-packages/scipy/linalg/_misc.py:3\u001b[0m\n\u001b[1;32m      1\u001b[0m \u001b[38;5;28;01mimport\u001b[39;00m \u001b[38;5;21;01mnumpy\u001b[39;00m \u001b[38;5;28;01mas\u001b[39;00m \u001b[38;5;21;01mnp\u001b[39;00m\n\u001b[1;32m      2\u001b[0m \u001b[38;5;28;01mfrom\u001b[39;00m \u001b[38;5;21;01mnumpy\u001b[39;00m\u001b[38;5;21;01m.\u001b[39;00m\u001b[38;5;21;01mlinalg\u001b[39;00m \u001b[38;5;28;01mimport\u001b[39;00m LinAlgError\n\u001b[0;32m----> 3\u001b[0m \u001b[38;5;28;01mfrom\u001b[39;00m \u001b[38;5;21;01m.\u001b[39;00m\u001b[38;5;21;01mblas\u001b[39;00m \u001b[38;5;28;01mimport\u001b[39;00m get_blas_funcs\n\u001b[1;32m      4\u001b[0m \u001b[38;5;28;01mfrom\u001b[39;00m \u001b[38;5;21;01m.\u001b[39;00m\u001b[38;5;21;01mlapack\u001b[39;00m \u001b[38;5;28;01mimport\u001b[39;00m get_lapack_funcs\n\u001b[1;32m      6\u001b[0m __all__ \u001b[38;5;241m=\u001b[39m [\u001b[38;5;124m'\u001b[39m\u001b[38;5;124mLinAlgError\u001b[39m\u001b[38;5;124m'\u001b[39m, \u001b[38;5;124m'\u001b[39m\u001b[38;5;124mLinAlgWarning\u001b[39m\u001b[38;5;124m'\u001b[39m, \u001b[38;5;124m'\u001b[39m\u001b[38;5;124mnorm\u001b[39m\u001b[38;5;124m'\u001b[39m]\n",
      "File \u001b[0;32m~/Library/Python/3.9/lib/python/site-packages/scipy/linalg/blas.py:213\u001b[0m\n\u001b[1;32m    210\u001b[0m \u001b[38;5;28;01mimport\u001b[39;00m \u001b[38;5;21;01mnumpy\u001b[39;00m \u001b[38;5;28;01mas\u001b[39;00m \u001b[38;5;21;01m_np\u001b[39;00m\n\u001b[1;32m    211\u001b[0m \u001b[38;5;28;01mimport\u001b[39;00m \u001b[38;5;21;01mfunctools\u001b[39;00m\n\u001b[0;32m--> 213\u001b[0m \u001b[38;5;28;01mfrom\u001b[39;00m \u001b[38;5;21;01mscipy\u001b[39;00m\u001b[38;5;21;01m.\u001b[39;00m\u001b[38;5;21;01mlinalg\u001b[39;00m \u001b[38;5;28;01mimport\u001b[39;00m _fblas\n\u001b[1;32m    214\u001b[0m \u001b[38;5;28;01mtry\u001b[39;00m:\n\u001b[1;32m    215\u001b[0m     \u001b[38;5;28;01mfrom\u001b[39;00m \u001b[38;5;21;01mscipy\u001b[39;00m\u001b[38;5;21;01m.\u001b[39;00m\u001b[38;5;21;01mlinalg\u001b[39;00m \u001b[38;5;28;01mimport\u001b[39;00m _cblas\n",
      "\u001b[0;31mKeyboardInterrupt\u001b[0m: "
     ]
    }
   ],
   "source": [
    "import numpy as np\n",
    "import pandas as pd\n",
    "import scipy as sc\n",
    "import scipy.stats as stats\n",
    "import matplotlib.pyplot as plt\n",
    "import seaborn as sns"
   ]
  },
  {
   "cell_type": "markdown",
   "metadata": {
    "vscode": {
     "languageId": "plaintext"
    }
   },
   "source": [
    "### Гипотеза 1\n",
    "**Фильмы с более высоким бюджетом получают более высокие рейтинги на КиноПоиск и IMDB.**"
   ]
  },
  {
   "cell_type": "code",
   "execution_count": 10,
   "metadata": {},
   "outputs": [
    {
     "data": {
      "image/png": "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",
      "text/plain": [
       "<Figure size 1200x500 with 1 Axes>"
      ]
     },
     "metadata": {},
     "output_type": "display_data"
    },
    {
     "ename": "NameError",
     "evalue": "name 'stats' is not defined",
     "output_type": "error",
     "traceback": [
      "\u001b[0;31m---------------------------------------------------------------------------\u001b[0m",
      "\u001b[0;31mNameError\u001b[0m                                 Traceback (most recent call last)",
      "Cell \u001b[0;32mIn[10], line 10\u001b[0m\n\u001b[1;32m      7\u001b[0m plt\u001b[38;5;241m.\u001b[39mshow()\n\u001b[1;32m      9\u001b[0m \u001b[38;5;66;03m# Проверим нормальность распределения с помощью теста Шапиро-Уилка\u001b[39;00m\n\u001b[0;32m---> 10\u001b[0m shapiro_budget \u001b[38;5;241m=\u001b[39m \u001b[43mstats\u001b[49m\u001b[38;5;241m.\u001b[39mshapiro(df[\u001b[38;5;124m'\u001b[39m\u001b[38;5;124mБюджет\u001b[39m\u001b[38;5;124m'\u001b[39m])\n\u001b[1;32m     11\u001b[0m shapiro_rating_kp \u001b[38;5;241m=\u001b[39m stats\u001b[38;5;241m.\u001b[39mshapiro(df[\u001b[38;5;124m'\u001b[39m\u001b[38;5;124mРейтинг КиноПоиск\u001b[39m\u001b[38;5;124m'\u001b[39m])\n\u001b[1;32m     12\u001b[0m shapiro_rating_imdb \u001b[38;5;241m=\u001b[39m stats\u001b[38;5;241m.\u001b[39mshapiro(df[\u001b[38;5;124m'\u001b[39m\u001b[38;5;124mРейтинг IMDB\u001b[39m\u001b[38;5;124m'\u001b[39m])\n",
      "\u001b[0;31mNameError\u001b[0m: name 'stats' is not defined"
     ]
    }
   ],
   "source": [
    "df = pd.read_csv(\"movies_data_2.0.csv\")\n",
    "\n",
    "# Проверим наличие выбросов с помощью boxplot\n",
    "plt.figure(figsize=(12, 5))\n",
    "sns.boxplot(x=df['Бюджет'])\n",
    "plt.title('Boxplot для бюджета')\n",
    "plt.show()\n",
    "\n",
    "# Проверим нормальность распределения с помощью теста Шапиро-Уилка\n",
    "shapiro_budget = stats.shapiro(df['Бюджет'])\n",
    "shapiro_rating_kp = stats.shapiro(df['Рейтинг КиноПоиск'])\n",
    "shapiro_rating_imdb = stats.shapiro(df['Рейтинг IMDB'])\n",
    "\n",
    "normality_results = {\n",
    "    \"Бюджет\": shapiro_budget.pvalue,\n",
    "    \"Рейтинг КиноПоиск\": shapiro_rating_kp.pvalue,\n",
    "    \"Рейтинг IMDB\": shapiro_rating_imdb.pvalue\n",
    "}\n",
    "\n",
    "# Проверим линейность связи с помощью диаграмм рассеяния\n",
    "plt.figure(figsize=(12, 5))\n",
    "plt.subplot(1, 2, 1)\n",
    "sns.scatterplot(x=df['Бюджет'], y=df['Рейтинг КиноПоиск'])\n",
    "plt.title(\"Бюджет vs. Рейтинг КиноПоиск\")\n",
    "\n",
    "plt.subplot(1, 2, 2)\n",
    "sns.scatterplot(x=df['Бюджет'], y=df['Рейтинг IMDB'])\n",
    "plt.title(\"Бюджет vs. Рейтинг IMDB\")\n",
    "\n",
    "plt.show()\n",
    "\n",
    "# Выбираем коэффициент корреляции в зависимости от нормальности данных\n",
    "if all(p > 0.05 for p in normality_results.values()):  # Если все нормальные\n",
    "    corr_kp, pval_kp = stats.pearsonr(df['Бюджет'], df['Рейтинг КиноПоиск'])\n",
    "    corr_imdb, pval_imdb = stats.pearsonr(df['Бюджет'], df['Рейтинг IMDB'])\n",
    "    method = \"Пирсона\"\n",
    "else:\n",
    "    corr_kp, pval_kp = stats.spearmanr(df['Бюджет'], df['Рейтинг КиноПоиск'])\n",
    "    corr_imdb, pval_imdb = stats.spearmanr(df['Бюджет'], df['Рейтинг IMDB'])\n",
    "    method = \"Спирмена\"\n"
<<<<<<< Updated upstream
>>>>>>> Stashed changes
=======
>>>>>>> Stashed changes
   ]
  }
 ],
 "metadata": {
  "kernelspec": {
   "display_name": "Python 3",
   "language": "python",
   "name": "python3"
  },
  "language_info": {
   "codemirror_mode": {
    "name": "ipython",
    "version": 3
   },
   "file_extension": ".py",
   "mimetype": "text/x-python",
   "name": "python",
   "nbconvert_exporter": "python",
   "pygments_lexer": "ipython3",
   "version": "3.9.6"
  }
 },
 "nbformat": 4,
 "nbformat_minor": 2
}
