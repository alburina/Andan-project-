{
 "cells": [
  {
   "cell_type": "code",
   "execution_count": null,
   "metadata": {
    "vscode": {
     "languageId": "plaintext"
    }
   },
   "outputs": [],
   "source": [
    "efzsebflakjwgf\n",
    "awlrekghlaekrwg\n",
    ",ajwebfgk nv,jhc,jhc"
   ]
  },
  {
   "cell_type": "markdown",
   "metadata": {},
   "source": []
  },
  {
   "cell_type": "code",
   "execution_count": null,
   "metadata": {
    "vscode": {
     "languageId": "plaintext"
    }
   },
   "outputs": [],
   "source": [
    "ougou\n",
    "vkjuv.;\n",
    "oj;o"
   ]
  },
  {
   "cell_type": "markdown",
   "metadata": {},
   "source": [
    ",mbk.jvb.kjl\n",
    ";kln;lk"
   ]
  }
 ],
 "metadata": {
  "language_info": {
   "name": "python"
  }
 },
 "nbformat": 4,
 "nbformat_minor": 2
}
